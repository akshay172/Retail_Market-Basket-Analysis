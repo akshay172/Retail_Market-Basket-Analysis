{
 "cells": [
  {
   "cell_type": "markdown",
   "metadata": {},
   "source": [
    "Context\n",
    "\n",
    "A real online retail transaction data set of two years.\n",
    "\n",
    "Content\n",
    "\n",
    "This is a transnational data set which contains all the transactions occurring between 01/12/2010 and 09/12/2011 for a UK-based and registered non-store online retail.The company mainly sells unique all-occasion gifts. Many customers of the company are wholesalers.\n",
    "\n",
    "Column Descriptors\n",
    "\n",
    "InvoiceNo: Invoice number. Nominal, a 6-digit integral number uniquely assigned to each transaction. If this code starts with letter 'c', it indicates a cancellation.\n",
    "\n",
    "StockCode: Product (item) code. Nominal, a 5-digit integral number uniquely assigned to each distinct product.\n",
    "\n",
    "Description: Product (item) name. Nominal.\n",
    "\n",
    "Quantity: The quantities of each product (item) per transaction. Numeric.\n",
    "\n",
    "InvoiceDate: Invice Date and time. Numeric, the day and time when each transaction was generated.\n",
    "\n",
    "UnitPrice: Unit price. Numeric, Product price per unit in sterling.\n",
    "\n",
    "CustomerID: Customer number. Nominal, a 5-digit integral number uniquely assigned to each customer.\n",
    "\n",
    "Country: Country name. Nominal, the name of the country where each customer resides.\n",
    "\n",
    "Acknowledgements\n",
    "\n",
    "Here you can find references about data set: http://archive.ics.uci.edu/ml/datasets/Online+Retail"
   ]
  },
  {
   "cell_type": "code",
   "execution_count": 2,
   "metadata": {},
   "outputs": [],
   "source": [
    "import numpy as np\n",
    "import pandas as pd\n",
    "#from mlxtend.frequent_patterns import apriori, association_rules\n",
    "from apyori import apriori"
   ]
  },
  {
   "cell_type": "code",
   "execution_count": 8,
   "metadata": {},
   "outputs": [],
   "source": [
    "retail_data = pd.read_csv(r'retail_dataset.csv')"
   ]
  },
  {
   "cell_type": "code",
   "execution_count": 9,
   "metadata": {},
   "outputs": [
    {
     "data": {
      "text/html": [
       "<div>\n",
       "<style scoped>\n",
       "    .dataframe tbody tr th:only-of-type {\n",
       "        vertical-align: middle;\n",
       "    }\n",
       "\n",
       "    .dataframe tbody tr th {\n",
       "        vertical-align: top;\n",
       "    }\n",
       "\n",
       "    .dataframe thead th {\n",
       "        text-align: right;\n",
       "    }\n",
       "</style>\n",
       "<table border=\"1\" class=\"dataframe\">\n",
       "  <thead>\n",
       "    <tr style=\"text-align: right;\">\n",
       "      <th></th>\n",
       "      <th>0</th>\n",
       "      <th>1</th>\n",
       "      <th>2</th>\n",
       "      <th>3</th>\n",
       "      <th>4</th>\n",
       "      <th>5</th>\n",
       "      <th>6</th>\n",
       "    </tr>\n",
       "  </thead>\n",
       "  <tbody>\n",
       "    <tr>\n",
       "      <th>0</th>\n",
       "      <td>Bread</td>\n",
       "      <td>Wine</td>\n",
       "      <td>Eggs</td>\n",
       "      <td>Meat</td>\n",
       "      <td>Cheese</td>\n",
       "      <td>Pencil</td>\n",
       "      <td>Diaper</td>\n",
       "    </tr>\n",
       "    <tr>\n",
       "      <th>1</th>\n",
       "      <td>Bread</td>\n",
       "      <td>Cheese</td>\n",
       "      <td>Meat</td>\n",
       "      <td>Diaper</td>\n",
       "      <td>Wine</td>\n",
       "      <td>Milk</td>\n",
       "      <td>Pencil</td>\n",
       "    </tr>\n",
       "    <tr>\n",
       "      <th>2</th>\n",
       "      <td>Cheese</td>\n",
       "      <td>Meat</td>\n",
       "      <td>Eggs</td>\n",
       "      <td>Milk</td>\n",
       "      <td>Wine</td>\n",
       "      <td>NaN</td>\n",
       "      <td>NaN</td>\n",
       "    </tr>\n",
       "    <tr>\n",
       "      <th>3</th>\n",
       "      <td>Cheese</td>\n",
       "      <td>Meat</td>\n",
       "      <td>Eggs</td>\n",
       "      <td>Milk</td>\n",
       "      <td>Wine</td>\n",
       "      <td>NaN</td>\n",
       "      <td>NaN</td>\n",
       "    </tr>\n",
       "    <tr>\n",
       "      <th>4</th>\n",
       "      <td>Meat</td>\n",
       "      <td>Pencil</td>\n",
       "      <td>Wine</td>\n",
       "      <td>NaN</td>\n",
       "      <td>NaN</td>\n",
       "      <td>NaN</td>\n",
       "      <td>NaN</td>\n",
       "    </tr>\n",
       "  </tbody>\n",
       "</table>\n",
       "</div>"
      ],
      "text/plain": [
       "        0       1     2       3       4       5       6\n",
       "0   Bread    Wine  Eggs    Meat  Cheese  Pencil  Diaper\n",
       "1   Bread  Cheese  Meat  Diaper    Wine    Milk  Pencil\n",
       "2  Cheese    Meat  Eggs    Milk    Wine     NaN     NaN\n",
       "3  Cheese    Meat  Eggs    Milk    Wine     NaN     NaN\n",
       "4    Meat  Pencil  Wine     NaN     NaN     NaN     NaN"
      ]
     },
     "execution_count": 9,
     "metadata": {},
     "output_type": "execute_result"
    }
   ],
   "source": [
    "retail_data.head()"
   ]
  },
  {
   "cell_type": "code",
   "execution_count": 10,
   "metadata": {
    "scrolled": true
   },
   "outputs": [
    {
     "name": "stdout",
     "output_type": "stream",
     "text": [
      "<class 'pandas.core.frame.DataFrame'>\n",
      "RangeIndex: 315 entries, 0 to 314\n",
      "Data columns (total 7 columns):\n",
      " #   Column  Non-Null Count  Dtype \n",
      "---  ------  --------------  ----- \n",
      " 0   0       315 non-null    object\n",
      " 1   1       285 non-null    object\n",
      " 2   2       245 non-null    object\n",
      " 3   3       187 non-null    object\n",
      " 4   4       133 non-null    object\n",
      " 5   5       71 non-null     object\n",
      " 6   6       41 non-null     object\n",
      "dtypes: object(7)\n",
      "memory usage: 17.4+ KB\n"
     ]
    }
   ],
   "source": [
    "retail_data.info()"
   ]
  },
  {
   "cell_type": "code",
   "execution_count": 11,
   "metadata": {},
   "outputs": [
    {
     "name": "stdout",
     "output_type": "stream",
     "text": [
      "[['Bread', 'Wine', 'Eggs', 'Meat', 'Cheese', 'Pencil', 'Diaper'], ['Bread', 'Cheese', 'Meat', 'Diaper', 'Wine', 'Milk', 'Pencil'], ['Cheese', 'Meat', 'Eggs', 'Milk', 'Wine', 'nan', 'nan'], ['Cheese', 'Meat', 'Eggs', 'Milk', 'Wine', 'nan', 'nan'], ['Meat', 'Pencil', 'Wine', 'nan', 'nan', 'nan', 'nan'], ['Eggs', 'Bread', 'Wine', 'Pencil', 'Milk', 'Diaper', 'Bagel'], ['Wine', 'Pencil', 'Eggs', 'Cheese', 'nan', 'nan', 'nan'], ['Bagel', 'Bread', 'Milk', 'Pencil', 'Diaper', 'nan', 'nan'], ['Bread', 'Diaper', 'Cheese', 'Milk', 'Wine', 'Eggs', 'nan'], ['Bagel', 'Wine', 'Diaper', 'Meat', 'Pencil', 'Eggs', 'Cheese'], ['Cheese', 'Meat', 'Eggs', 'Milk', 'Wine', 'nan', 'nan'], ['Bagel', 'Eggs', 'Meat', 'Bread', 'Diaper', 'Wine', 'Milk'], ['Bread', 'Diaper', 'Pencil', 'Bagel', 'Meat', 'nan', 'nan'], ['Bagel', 'Cheese', 'Milk', 'Meat', 'nan', 'nan', 'nan'], ['Bread', 'nan', 'nan', 'nan', 'nan', 'nan', 'nan'], ['Pencil', 'Diaper', 'Bagel', 'nan', 'nan', 'nan', 'nan'], ['Meat', 'Bagel', 'Bread', 'nan', 'nan', 'nan', 'nan'], ['Bread', 'Bagel', 'Milk', 'nan', 'nan', 'nan', 'nan'], ['Diaper', 'nan', 'nan', 'nan', 'nan', 'nan', 'nan'], ['Bagel', 'Cheese', 'Meat', 'Bread', 'Diaper', 'Eggs', 'nan'], ['Meat', 'Pencil', 'Cheese', 'Bread', 'nan', 'nan', 'nan'], ['Cheese', 'Eggs', 'Wine', 'Bread', 'Milk', 'Pencil', 'Meat'], ['Eggs', 'Bagel', 'Cheese', 'Meat', 'Diaper', 'nan', 'nan'], ['Diaper', 'Wine', 'Eggs', 'Pencil', 'Meat', 'nan', 'nan'], ['Diaper', 'Meat', 'Milk', 'Bread', 'Bagel', 'Cheese', 'nan'], ['Pencil', 'nan', 'nan', 'nan', 'nan', 'nan', 'nan'], ['Cheese', 'Meat', 'Eggs', 'Milk', 'Wine', 'nan', 'nan'], ['Diaper', 'Meat', 'Bread', 'Pencil', 'Wine', 'Cheese', 'Milk'], ['Bread', 'Bagel', 'nan', 'nan', 'nan', 'nan', 'nan'], ['Meat', 'Bread', 'Eggs', 'Cheese', 'Milk', 'Diaper', 'nan'], ['Diaper', 'Meat', 'nan', 'nan', 'nan', 'nan', 'nan'], ['Cheese', 'Bagel', 'Bread', 'Diaper', 'Wine', 'nan', 'nan'], ['Cheese', 'Milk', 'Bread', 'nan', 'nan', 'nan', 'nan'], ['Bread', 'Bagel', 'Milk', 'nan', 'nan', 'nan', 'nan'], ['Diaper', 'Bread', 'Wine', 'Meat', 'Bagel', 'nan', 'nan'], ['Bread', 'Cheese', 'Milk', 'Wine', 'Diaper', 'nan', 'nan'], ['Bread', 'Bagel', 'Milk', 'nan', 'nan', 'nan', 'nan'], ['Bread', 'Bagel', 'Milk', 'nan', 'nan', 'nan', 'nan'], ['Eggs', 'nan', 'nan', 'nan', 'nan', 'nan', 'nan'], ['Bread', 'Bagel', 'Milk', 'nan', 'nan', 'nan', 'nan'], ['Bread', 'Bagel', 'Milk', 'nan', 'nan', 'nan', 'nan'], ['Meat', 'nan', 'nan', 'nan', 'nan', 'nan', 'nan'], ['Eggs', 'Wine', 'Milk', 'Cheese', 'Pencil', 'Bagel', 'Bread'], ['Bagel', 'Eggs', 'nan', 'nan', 'nan', 'nan', 'nan'], ['Diaper', 'Wine', 'Meat', 'nan', 'nan', 'nan', 'nan'], ['Diaper', 'Bread', 'Bagel', 'Eggs', 'Wine', 'Milk', 'Cheese'], ['Cheese', 'Meat', 'Eggs', 'Milk', 'nan', 'nan', 'nan'], ['Eggs', 'Wine', 'nan', 'nan', 'nan', 'nan', 'nan'], ['Cheese', 'Meat', 'Eggs', 'Milk', 'Wine', 'nan', 'nan'], ['Wine', 'Milk', 'nan', 'nan', 'nan', 'nan', 'nan'], ['Diaper', 'nan', 'nan', 'nan', 'nan', 'nan', 'nan'], ['Wine', 'Bread', 'Bagel', 'Diaper', 'Milk', 'nan', 'nan'], ['Cheese', 'Meat', 'Eggs', 'Milk', 'Wine', 'nan', 'nan'], ['Cheese', 'Meat', 'Eggs', 'Milk', 'nan', 'nan', 'nan'], ['Cheese', 'Diaper', 'Meat', 'Wine', 'Bread', 'nan', 'nan'], ['Wine', 'Milk', 'Diaper', 'Pencil', 'Cheese', 'Eggs', 'nan'], ['Cheese', 'Eggs', 'Meat', 'Diaper', 'Wine', 'Milk', 'Bread'], ['Diaper', 'Eggs', 'nan', 'nan', 'nan', 'nan', 'nan'], ['Cheese', 'Meat', 'Eggs', 'Milk', 'Wine', 'nan', 'nan'], ['Wine', 'Cheese', 'Bagel', 'Pencil', 'Bread', 'Meat', 'Diaper'], ['Milk', 'Pencil', 'Cheese', 'Bagel', 'nan', 'nan', 'nan'], ['Meat', 'Cheese', 'Diaper', 'Wine', 'nan', 'nan', 'nan'], ['Bread', 'Bagel', 'Milk', 'nan', 'nan', 'nan', 'nan'], ['Bread', 'Meat', 'Pencil', 'Milk', 'Wine', 'Diaper', 'nan'], ['Pencil', 'Cheese', 'Diaper', 'Wine', 'Eggs', 'nan', 'nan'], ['Bread', 'Diaper', 'Milk', 'Pencil', 'Cheese', 'Eggs', 'nan'], ['Pencil', 'Milk', 'Cheese', 'nan', 'nan', 'nan', 'nan'], ['Eggs', 'Bagel', 'Bread', 'nan', 'nan', 'nan', 'nan'], ['Diaper', 'Bread', 'Cheese', 'Bagel', 'Meat', 'Pencil', 'nan'], ['Bread', 'Bagel', 'Milk', 'Diaper', 'nan', 'nan', 'nan'], ['Eggs', 'Bread', 'nan', 'nan', 'nan', 'nan', 'nan'], ['Pencil', 'Milk', 'Diaper', 'Eggs', 'nan', 'nan', 'nan'], ['Pencil', 'Milk', 'Meat', 'Cheese', 'nan', 'nan', 'nan'], ['Bagel', 'Bread', 'Diaper', 'Cheese', 'Meat', 'nan', 'nan'], ['Cheese', 'Meat', 'Eggs', 'Milk', 'nan', 'nan', 'nan'], ['Cheese', 'Meat', 'Eggs', 'Milk', 'nan', 'nan', 'nan'], ['Bread', 'Wine', 'Eggs', 'Bagel', 'Cheese', 'Pencil', 'Diaper'], ['Diaper', 'nan', 'nan', 'nan', 'nan', 'nan', 'nan'], ['Cheese', 'Meat', 'Eggs', 'Milk', 'nan', 'nan', 'nan'], ['Milk', 'nan', 'nan', 'nan', 'nan', 'nan', 'nan'], ['Bread', 'Pencil', 'nan', 'nan', 'nan', 'nan', 'nan'], ['Wine', 'Milk', 'Cheese', 'nan', 'nan', 'nan', 'nan'], ['Cheese', 'Bagel', 'nan', 'nan', 'nan', 'nan', 'nan'], ['Pencil', 'Diaper', 'Wine', 'nan', 'nan', 'nan', 'nan'], ['Eggs', 'Meat', 'Cheese', 'nan', 'nan', 'nan', 'nan'], ['Meat', 'Bagel', 'Pencil', 'nan', 'nan', 'nan', 'nan'], ['Meat', 'Eggs', 'Bagel', 'Cheese', 'Wine', 'nan', 'nan'], ['Bread', 'Cheese', 'Wine', 'Bagel', 'Milk', 'Meat', 'nan'], ['Meat', 'Cheese', 'Pencil', 'Wine', 'Bread', 'nan', 'nan'], ['Milk', 'Cheese', 'Wine', 'Bagel', 'Meat', 'Pencil', 'Bread'], ['Pencil', 'Cheese', 'Wine', 'Milk', 'Diaper', 'Bagel', 'nan'], ['Bread', 'Bagel', 'Milk', 'nan', 'nan', 'nan', 'nan'], ['Cheese', 'Meat', 'Eggs', 'Milk', 'nan', 'nan', 'nan'], ['Cheese', 'Diaper', 'Pencil', 'Bagel', 'Wine', 'Meat', 'Eggs'], ['Eggs', 'Meat', 'Wine', 'Bagel', 'Milk', 'Cheese', 'Diaper'], ['Meat', 'nan', 'nan', 'nan', 'nan', 'nan', 'nan'], ['Bread', 'Bagel', 'Milk', 'nan', 'nan', 'nan', 'nan'], ['Pencil', 'nan', 'nan', 'nan', 'nan', 'nan', 'nan'], ['Wine', 'Diaper', 'Bread', 'Cheese', 'nan', 'nan', 'nan'], ['Bagel', 'Pencil', 'Wine', 'Meat', 'nan', 'nan', 'nan'], ['Wine', 'Bread', 'nan', 'nan', 'nan', 'nan', 'nan'], ['Bread', 'Milk', 'Eggs', 'Cheese', 'Wine', 'Pencil', 'nan'], ['Cheese', 'Milk', 'Meat', 'Eggs', 'Bagel', 'nan', 'nan'], ['Cheese', 'Meat', 'Eggs', 'Milk', 'nan', 'nan', 'nan'], ['Diaper', 'Wine', 'Meat', 'Eggs', 'nan', 'nan', 'nan'], ['Meat', 'Diaper', 'nan', 'nan', 'nan', 'nan', 'nan'], ['Pencil', 'Wine', 'Bread', 'Milk', 'nan', 'nan', 'nan'], ['Bagel', 'Bread', 'Eggs', 'Milk', 'Pencil', 'Meat', 'Wine'], ['Milk', 'Cheese', 'Wine', 'Meat', 'Bagel', 'Diaper', 'Bread'], ['Bagel', 'Diaper', 'Milk', 'Cheese', 'Wine', 'nan', 'nan'], ['Bread', 'Bagel', 'Milk', 'nan', 'nan', 'nan', 'nan'], ['Diaper', 'nan', 'nan', 'nan', 'nan', 'nan', 'nan'], ['Bagel', 'Pencil', 'Bread', 'Cheese', 'Eggs', 'nan', 'nan'], ['Bread', 'Eggs', 'Cheese', 'nan', 'nan', 'nan', 'nan'], ['Meat', 'Milk', 'Pencil', 'nan', 'nan', 'nan', 'nan'], ['Bread', 'Cheese', 'Eggs', 'Meat', 'Pencil', 'Diaper', 'Wine'], ['Meat', 'Cheese', 'nan', 'nan', 'nan', 'nan', 'nan'], ['Eggs', 'Wine', 'Bagel', 'Bread', 'Meat', 'nan', 'nan'], ['Bagel', 'Cheese', 'nan', 'nan', 'nan', 'nan', 'nan'], ['Bagel', 'Pencil', 'Diaper', 'Wine', 'Meat', 'nan', 'nan'], ['Milk', 'Pencil', 'nan', 'nan', 'nan', 'nan', 'nan'], ['Pencil', 'Wine', 'Bagel', 'Eggs', 'Diaper', 'nan', 'nan'], ['Bread', 'Meat', 'Milk', 'Cheese', 'Wine', 'Eggs', 'Pencil'], ['Bread', 'Bagel', 'Milk', 'nan', 'nan', 'nan', 'nan'], ['Pencil', 'Bread', 'nan', 'nan', 'nan', 'nan', 'nan'], ['Eggs', 'Milk', 'Bagel', 'Wine', 'nan', 'nan', 'nan'], ['Cheese', 'Pencil', 'Meat', 'Eggs', 'Milk', 'Bagel', 'Wine'], ['Cheese', 'Milk', 'nan', 'nan', 'nan', 'nan', 'nan'], ['Diaper', 'Pencil', 'Milk', 'Bread', 'nan', 'nan', 'nan'], ['Bread', 'Bagel', 'Milk', 'nan', 'nan', 'nan', 'nan'], ['Cheese', 'Meat', 'Eggs', 'Milk', 'nan', 'nan', 'nan'], ['Bread', 'Bagel', 'Milk', 'nan', 'nan', 'nan', 'nan'], ['Diaper', 'nan', 'nan', 'nan', 'nan', 'nan', 'nan'], ['Meat', 'Bread', 'Wine', 'Diaper', 'Bagel', 'nan', 'nan'], ['Bagel', 'nan', 'nan', 'nan', 'nan', 'nan', 'nan'], ['Wine', 'Diaper', 'nan', 'nan', 'nan', 'nan', 'nan'], ['Meat', 'Diaper', 'Eggs', 'Cheese', 'Bagel', 'nan', 'nan'], ['Bread', 'Pencil', 'Bagel', 'Eggs', 'nan', 'nan', 'nan'], ['Milk', 'Eggs', 'Meat', 'Cheese', 'Bread', 'Wine', 'Pencil'], ['Pencil', 'Eggs', 'Meat', 'nan', 'nan', 'nan', 'nan'], ['Pencil', 'Bagel', 'nan', 'nan', 'nan', 'nan', 'nan'], ['Bread', 'Bagel', 'Meat', 'Cheese', 'Eggs', 'Pencil', 'nan'], ['Milk', 'Eggs', 'Bread', 'Cheese', 'nan', 'nan', 'nan'], ['Milk', 'nan', 'nan', 'nan', 'nan', 'nan', 'nan'], ['Pencil', 'Meat', 'Bread', 'Bagel', 'Cheese', 'nan', 'nan'], ['Wine', 'Eggs', 'Bread', 'Diaper', 'nan', 'nan', 'nan'], ['Meat', 'Cheese', 'Eggs', 'Bagel', 'Wine', 'Bread', 'nan'], ['Meat', 'Cheese', 'Bread', 'Milk', 'nan', 'nan', 'nan'], ['Cheese', 'Milk', 'Pencil', 'Eggs', 'Bread', 'Meat', 'nan'], ['Bread', 'nan', 'nan', 'nan', 'nan', 'nan', 'nan'], ['Bread', 'Eggs', 'Bagel', 'Diaper', 'Milk', 'Meat', 'Pencil'], ['Milk', 'Diaper', 'nan', 'nan', 'nan', 'nan', 'nan'], ['Cheese', 'Eggs', 'Meat', 'Wine', 'Bagel', 'Diaper', 'Bread'], ['Diaper', 'Bagel', 'Bread', 'Pencil', 'Cheese', 'Milk', 'nan'], ['Diaper', 'nan', 'nan', 'nan', 'nan', 'nan', 'nan'], ['Cheese', 'Meat', 'Eggs', 'Milk', 'nan', 'nan', 'nan'], ['Cheese', 'Wine', 'Meat', 'Bagel', 'nan', 'nan', 'nan'], ['Cheese', 'Diaper', 'Eggs', 'Milk', 'nan', 'nan', 'nan'], ['Wine', 'Cheese', 'Meat', 'Pencil', 'Eggs', 'nan', 'nan'], ['Eggs', 'Bagel', 'Pencil', 'Wine', 'Cheese', 'nan', 'nan'], ['Bagel', 'Diaper', 'nan', 'nan', 'nan', 'nan', 'nan'], ['Meat', 'nan', 'nan', 'nan', 'nan', 'nan', 'nan'], ['Bread', 'Eggs', 'Wine', 'nan', 'nan', 'nan', 'nan'], ['Bread', 'Milk', 'Pencil', 'Wine', 'Eggs', 'Bagel', 'nan'], ['Milk', 'Bread', 'Bagel', 'nan', 'nan', 'nan', 'nan'], ['Bagel', 'Eggs', 'nan', 'nan', 'nan', 'nan', 'nan'], ['Wine', 'Cheese', 'Milk', 'Meat', 'Bread', 'Eggs', 'nan'], ['Meat', 'Wine', 'nan', 'nan', 'nan', 'nan', 'nan'], ['Wine', 'Bread', 'nan', 'nan', 'nan', 'nan', 'nan'], ['Meat', 'Eggs', 'nan', 'nan', 'nan', 'nan', 'nan'], ['Bagel', 'Milk', 'Wine', 'Pencil', 'Cheese', 'nan', 'nan'], ['Cheese', 'Meat', 'Eggs', 'Milk', 'nan', 'nan', 'nan'], ['Bread', 'Diaper', 'Pencil', 'Bagel', 'Cheese', 'nan', 'nan'], ['Bread', 'Pencil', 'Diaper', 'Cheese', 'nan', 'nan', 'nan'], ['Cheese', 'Meat', 'Eggs', 'Milk', 'nan', 'nan', 'nan'], ['Eggs', 'Bagel', 'Meat', 'Diaper', 'Pencil', 'Milk', 'Bread'], ['Bread', 'Bagel', 'Milk', 'nan', 'nan', 'nan', 'nan'], ['Diaper', 'Meat', 'Wine', 'Pencil', 'Bread', 'nan', 'nan'], ['Eggs', 'Cheese', 'nan', 'nan', 'nan', 'nan', 'nan'], ['Cheese', 'Pencil', 'Wine', 'nan', 'nan', 'nan', 'nan'], ['Eggs', 'nan', 'nan', 'nan', 'nan', 'nan', 'nan'], ['Pencil', 'Milk', 'Eggs', 'nan', 'nan', 'nan', 'nan'], ['Bagel', 'Cheese', 'Eggs', 'Milk', 'Meat', 'Pencil', 'Bread'], ['Bagel', 'Diaper', 'Pencil', 'Milk', 'Meat', 'nan', 'nan'], ['Cheese', 'Meat', 'Eggs', 'Milk', 'nan', 'nan', 'nan'], ['Cheese', 'Bread', 'Wine', 'nan', 'nan', 'nan', 'nan'], ['Bread', 'Cheese', 'Milk', 'Diaper', 'Pencil', 'nan', 'nan'], ['Milk', 'Pencil', 'Bagel', 'Wine', 'Eggs', 'Meat', 'nan'], ['Wine', 'Milk', 'Eggs', 'Bread', 'Meat', 'nan', 'nan'], ['Bread', 'nan', 'nan', 'nan', 'nan', 'nan', 'nan'], ['Bread', 'Diaper', 'Pencil', 'Meat', 'Wine', 'nan', 'nan'], ['Cheese', 'Pencil', 'nan', 'nan', 'nan', 'nan', 'nan'], ['Bread', 'Diaper', 'nan', 'nan', 'nan', 'nan', 'nan'], ['Bagel', 'Diaper', 'Wine', 'Bread', 'nan', 'nan', 'nan'], ['Wine', 'Bread', 'Diaper', 'nan', 'nan', 'nan', 'nan'], ['Bread', 'Bagel', 'Milk', 'nan', 'nan', 'nan', 'nan'], ['Diaper', 'Bagel', 'nan', 'nan', 'nan', 'nan', 'nan'], ['Bread', 'Meat', 'Pencil', 'Eggs', 'Cheese', 'Milk', 'Wine'], ['Bread', 'Wine', 'Diaper', 'Eggs', 'Pencil', 'nan', 'nan'], ['Bread', 'Wine', 'Diaper', 'Eggs', 'Pencil', 'nan', 'nan'], ['Bread', 'Wine', 'Diaper', 'nan', 'nan', 'nan', 'nan'], ['Bread', 'Wine', 'Diaper', 'Eggs', 'nan', 'nan', 'nan'], ['Bread', 'Wine', 'Diaper', 'Eggs', 'Pencil', 'Milk', 'nan'], ['Wine', 'Pencil', 'Eggs', 'Cheese', 'nan', 'nan', 'nan'], ['Bagel', 'Bread', 'Milk', 'Pencil', 'Diaper', 'nan', 'nan'], ['Bread', 'Diaper', 'Cheese', 'Milk', 'Wine', 'Eggs', 'nan'], ['Bagel', 'Wine', 'Diaper', 'Meat', 'Pencil', 'Eggs', 'Cheese'], ['Cheese', 'Meat', 'Eggs', 'Milk', 'Wine', 'nan', 'nan'], ['Bagel', 'Eggs', 'Meat', 'Bread', 'Diaper', 'Wine', 'Milk'], ['Bread', 'Diaper', 'Pencil', 'Bagel', 'Meat', 'nan', 'nan'], ['Bagel', 'Cheese', 'Milk', 'Meat', 'nan', 'nan', 'nan'], ['Bread', 'nan', 'nan', 'nan', 'nan', 'nan', 'nan'], ['Pencil', 'Diaper', 'Bagel', 'nan', 'nan', 'nan', 'nan'], ['Meat', 'Bagel', 'Bread', 'nan', 'nan', 'nan', 'nan'], ['Bread', 'Bagel', 'Milk', 'nan', 'nan', 'nan', 'nan'], ['Diaper', 'nan', 'nan', 'nan', 'nan', 'nan', 'nan'], ['Bagel', 'Cheese', 'Meat', 'Bread', 'Diaper', 'Eggs', 'nan'], ['Meat', 'Pencil', 'Cheese', 'Bread', 'nan', 'nan', 'nan'], ['Cheese', 'Eggs', 'Wine', 'Bread', 'Milk', 'Pencil', 'Meat'], ['Eggs', 'Bagel', 'Cheese', 'Meat', 'Diaper', 'nan', 'nan'], ['Diaper', 'Wine', 'Eggs', 'Pencil', 'Meat', 'nan', 'nan'], ['Diaper', 'Meat', 'Milk', 'Bread', 'Bagel', 'Cheese', 'nan'], ['Pencil', 'nan', 'nan', 'nan', 'nan', 'nan', 'nan'], ['Cheese', 'Meat', 'Eggs', 'Milk', 'Wine', 'nan', 'nan'], ['Diaper', 'Meat', 'Bread', 'Pencil', 'Wine', 'Cheese', 'Milk'], ['Bread', 'Bagel', 'nan', 'nan', 'nan', 'nan', 'nan'], ['Meat', 'Bread', 'Eggs', 'Cheese', 'Milk', 'Diaper', 'nan'], ['Diaper', 'Meat', 'nan', 'nan', 'nan', 'nan', 'nan'], ['Cheese', 'Bagel', 'Bread', 'Diaper', 'Wine', 'nan', 'nan'], ['Cheese', 'Milk', 'Bread', 'nan', 'nan', 'nan', 'nan'], ['Bread', 'Bagel', 'Milk', 'nan', 'nan', 'nan', 'nan'], ['Diaper', 'Bread', 'Wine', 'Meat', 'Bagel', 'nan', 'nan'], ['Bread', 'Cheese', 'Milk', 'Wine', 'Diaper', 'nan', 'nan'], ['Bread', 'Bagel', 'Milk', 'nan', 'nan', 'nan', 'nan'], ['Bread', 'Bagel', 'Milk', 'nan', 'nan', 'nan', 'nan'], ['Eggs', 'nan', 'nan', 'nan', 'nan', 'nan', 'nan'], ['Bread', 'Bagel', 'Milk', 'nan', 'nan', 'nan', 'nan'], ['Bread', 'Bagel', 'Milk', 'nan', 'nan', 'nan', 'nan'], ['Meat', 'nan', 'nan', 'nan', 'nan', 'nan', 'nan'], ['Eggs', 'Wine', 'Milk', 'Cheese', 'Pencil', 'Bagel', 'Bread'], ['Bagel', 'Eggs', 'nan', 'nan', 'nan', 'nan', 'nan'], ['Diaper', 'Wine', 'Meat', 'nan', 'nan', 'nan', 'nan'], ['Diaper', 'Bread', 'Bagel', 'Eggs', 'Wine', 'Milk', 'Cheese'], ['Cheese', 'Meat', 'Eggs', 'Milk', 'nan', 'nan', 'nan'], ['Eggs', 'Wine', 'nan', 'nan', 'nan', 'nan', 'nan'], ['Cheese', 'Meat', 'Eggs', 'Milk', 'Wine', 'nan', 'nan'], ['Wine', 'Milk', 'nan', 'nan', 'nan', 'nan', 'nan'], ['Diaper', 'nan', 'nan', 'nan', 'nan', 'nan', 'nan'], ['Wine', 'Bread', 'Bagel', 'Diaper', 'Milk', 'nan', 'nan'], ['Cheese', 'Meat', 'Eggs', 'Milk', 'Wine', 'nan', 'nan'], ['Cheese', 'Meat', 'Eggs', 'Milk', 'nan', 'nan', 'nan'], ['Cheese', 'Diaper', 'Meat', 'Wine', 'Bread', 'nan', 'nan'], ['Wine', 'Milk', 'Diaper', 'Pencil', 'Cheese', 'Eggs', 'nan'], ['Cheese', 'Eggs', 'Meat', 'Diaper', 'Wine', 'Milk', 'Bread'], ['Diaper', 'Eggs', 'nan', 'nan', 'nan', 'nan', 'nan'], ['Cheese', 'Meat', 'Eggs', 'Milk', 'Wine', 'nan', 'nan'], ['Wine', 'Cheese', 'Bagel', 'Pencil', 'Bread', 'Meat', 'Diaper'], ['Milk', 'Pencil', 'Cheese', 'Bagel', 'nan', 'nan', 'nan'], ['Meat', 'Cheese', 'Diaper', 'Wine', 'nan', 'nan', 'nan'], ['Bread', 'Bagel', 'Milk', 'nan', 'nan', 'nan', 'nan'], ['Bread', 'Meat', 'Pencil', 'Milk', 'Wine', 'Diaper', 'nan'], ['Pencil', 'Cheese', 'Diaper', 'Wine', 'Eggs', 'nan', 'nan'], ['Bread', 'Diaper', 'Milk', 'Pencil', 'Cheese', 'Eggs', 'nan'], ['Pencil', 'Milk', 'Cheese', 'nan', 'nan', 'nan', 'nan'], ['Eggs', 'Bagel', 'Bread', 'nan', 'nan', 'nan', 'nan'], ['Diaper', 'Bread', 'Cheese', 'Bagel', 'Meat', 'Pencil', 'nan'], ['Bread', 'Bagel', 'Milk', 'Diaper', 'nan', 'nan', 'nan'], ['Eggs', 'Bread', 'nan', 'nan', 'nan', 'nan', 'nan'], ['Pencil', 'Milk', 'Diaper', 'Eggs', 'nan', 'nan', 'nan'], ['Pencil', 'Milk', 'Meat', 'Cheese', 'nan', 'nan', 'nan'], ['Bagel', 'Bread', 'Diaper', 'Cheese', 'Meat', 'nan', 'nan'], ['Cheese', 'Meat', 'Eggs', 'Milk', 'nan', 'nan', 'nan'], ['Cheese', 'Meat', 'Eggs', 'Milk', 'nan', 'nan', 'nan'], ['Bread', 'Wine', 'Eggs', 'Bagel', 'Cheese', 'Pencil', 'Diaper'], ['Diaper', 'nan', 'nan', 'nan', 'nan', 'nan', 'nan'], ['Cheese', 'Meat', 'Eggs', 'Milk', 'nan', 'nan', 'nan'], ['Milk', 'nan', 'nan', 'nan', 'nan', 'nan', 'nan'], ['Bread', 'Pencil', 'nan', 'nan', 'nan', 'nan', 'nan'], ['Wine', 'Milk', 'Cheese', 'nan', 'nan', 'nan', 'nan'], ['Cheese', 'Bagel', 'nan', 'nan', 'nan', 'nan', 'nan'], ['Pencil', 'Diaper', 'Wine', 'nan', 'nan', 'nan', 'nan'], ['Eggs', 'Meat', 'Cheese', 'nan', 'nan', 'nan', 'nan'], ['Meat', 'Bagel', 'Pencil', 'nan', 'nan', 'nan', 'nan'], ['Meat', 'Eggs', 'Bagel', 'Cheese', 'Wine', 'nan', 'nan'], ['Bread', 'Cheese', 'Wine', 'Bagel', 'Milk', 'Meat', 'nan'], ['Meat', 'Cheese', 'Pencil', 'Wine', 'Bread', 'nan', 'nan'], ['Milk', 'Cheese', 'Wine', 'Bagel', 'Meat', 'Pencil', 'Bread'], ['Pencil', 'Cheese', 'Wine', 'Milk', 'Diaper', 'Bagel', 'nan'], ['Bread', 'Bagel', 'Milk', 'nan', 'nan', 'nan', 'nan'], ['Cheese', 'Meat', 'Eggs', 'Milk', 'nan', 'nan', 'nan'], ['Cheese', 'Diaper', 'Pencil', 'Bagel', 'Wine', 'Meat', 'Eggs'], ['Eggs', 'Meat', 'Wine', 'Bagel', 'Milk', 'Cheese', 'Diaper'], ['Meat', 'nan', 'nan', 'nan', 'nan', 'nan', 'nan'], ['Bread', 'Bagel', 'Milk', 'nan', 'nan', 'nan', 'nan'], ['Pencil', 'nan', 'nan', 'nan', 'nan', 'nan', 'nan'], ['Wine', 'Diaper', 'Bread', 'Cheese', 'nan', 'nan', 'nan'], ['Bagel', 'Pencil', 'Wine', 'Meat', 'nan', 'nan', 'nan'], ['Wine', 'Bread', 'nan', 'nan', 'nan', 'nan', 'nan'], ['Bread', 'Milk', 'Eggs', 'Cheese', 'Wine', 'Pencil', 'nan'], ['Cheese', 'Milk', 'Meat', 'Eggs', 'Bagel', 'nan', 'nan'], ['Cheese', 'Meat', 'Eggs', 'Milk', 'nan', 'nan', 'nan'], ['Diaper', 'Wine', 'Meat', 'Eggs', 'nan', 'nan', 'nan'], ['Meat', 'Diaper', 'nan', 'nan', 'nan', 'nan', 'nan'], ['Pencil', 'Wine', 'Bread', 'Milk', 'nan', 'nan', 'nan'], ['Bagel', 'Bread', 'Eggs', 'Milk', 'Pencil', 'Meat', 'Wine'], ['Milk', 'Cheese', 'Wine', 'Meat', 'Bagel', 'Diaper', 'Bread'], ['Bagel', 'Diaper', 'Milk', 'Cheese', 'Wine', 'nan', 'nan'], ['Bread', 'Bagel', 'Milk', 'nan', 'nan', 'nan', 'nan'], ['Diaper', 'nan', 'nan', 'nan', 'nan', 'nan', 'nan'], ['Bagel', 'Pencil', 'Bread', 'Cheese', 'Eggs', 'nan', 'nan'], ['Bread', 'Eggs', 'Cheese', 'nan', 'nan', 'nan', 'nan'], ['Meat', 'Milk', 'Pencil', 'nan', 'nan', 'nan', 'nan'], ['Bread', 'Cheese', 'Eggs', 'Meat', 'Pencil', 'Diaper', 'Wine'], ['Meat', 'Cheese', 'nan', 'nan', 'nan', 'nan', 'nan'], ['Eggs', 'Wine', 'Bagel', 'Bread', 'Meat', 'nan', 'nan']]\n"
     ]
    }
   ],
   "source": [
    "records = []\n",
    "for i in range(0, 315):\n",
    "    records.append([str(retail_data.values[i,j]) for j in range(0, 7)])\n",
    "\n",
    "print(records)"
   ]
  },
  {
   "cell_type": "markdown",
   "metadata": {},
   "source": [
    "The Apriori library that we are using requires the dataset to be in the form of a list of lists, where the whole dataset is a big list and each transaction in the dataset is an inner list within the outer big list."
   ]
  },
  {
   "cell_type": "code",
   "execution_count": 12,
   "metadata": {},
   "outputs": [],
   "source": [
    "association_rules = apriori(records, min_support=0.0045, min_confidence=0.2, min_lift=3, min_length=2)\n",
    "association_results = list(association_rules)"
   ]
  },
  {
   "cell_type": "markdown",
   "metadata": {},
   "source": [
    "The apriori class requires some parameter values to work. The first parameter is the list of list that you want to extract rules from. The second parameter is the min_support parameter. This parameter is used to select the items with support values greater than the value specified by the parameter. Next, the min_confidence parameter filters those rules that have confidence greater than the confidence threshold specified by the parameter. Similarly, the min_lift parameter specifies the minimum lift value for the short listed rules. Finally, the min_length parameter specifies the minimum number of items that you want in your rules."
   ]
  },
  {
   "cell_type": "code",
   "execution_count": 18,
   "metadata": {},
   "outputs": [
    {
     "name": "stdout",
     "output_type": "stream",
     "text": [
      "RelationRecord(items=frozenset({'Bread', 'Bagel', 'Meat', 'Cheese', 'Diaper', 'Eggs', 'nan'}), support=0.006349206349206349, ordered_statistics=[OrderedStatistic(items_base=frozenset({'Bread', 'Bagel', 'Diaper', 'Eggs', 'nan'}), items_add=frozenset({'Cheese', 'Meat'}), confidence=1.0, lift=3.0882352941176467)])\n"
     ]
    }
   ],
   "source": [
    "print(association_results[0])"
   ]
  },
  {
   "cell_type": "markdown",
   "metadata": {},
   "source": [
    "we can see that bread and bagel are commonly bought together\n",
    "\n",
    "The support value for the first rule is 0.0063. This number is calculated by dividing the number of transactions containing bread divided by total number of transactions. The confidence level for the rule is 1.0 which shows that out of all the transactions that contain bread, 100% of the transactions also contain bagel. Finally, the lift of 3.08 tells us that bagel is 3.08 times more likely to be bought by the customers who buy bread compared to the default likelihood of the sale of bagel."
   ]
  },
  {
   "cell_type": "code",
   "execution_count": 15,
   "metadata": {
    "scrolled": true
   },
   "outputs": [
    {
     "name": "stdout",
     "output_type": "stream",
     "text": [
      "Rule: Bread -> Bagel\n",
      "Support: 0.006349206349206349\n",
      "Confidence: 1.0\n",
      "Lift: 3.0882352941176467\n",
      "=====================================\n",
      "Rule: Bread -> Bagel\n",
      "Support: 0.006349206349206349\n",
      "Confidence: 1.0\n",
      "Lift: 3.5795454545454546\n",
      "=====================================\n",
      "Rule: Bread -> Milk\n",
      "Support: 0.006349206349206349\n",
      "Confidence: 0.6666666666666666\n",
      "Lift: 3.230769230769231\n",
      "=====================================\n",
      "Rule: Bagel -> Wine\n",
      "Support: 0.012698412698412698\n",
      "Confidence: 0.2857142857142857\n",
      "Lift: 3.1034482758620685\n",
      "=====================================\n",
      "Rule: Milk -> Bagel\n",
      "Support: 0.006349206349206349\n",
      "Confidence: 0.5\n",
      "Lift: 3.2142857142857144\n",
      "=====================================\n",
      "Rule: Bread -> Milk\n",
      "Support: 0.006349206349206349\n",
      "Confidence: 1.0\n",
      "Lift: 4.2\n",
      "=====================================\n",
      "Rule: Bread -> Milk\n",
      "Support: 0.009523809523809525\n",
      "Confidence: 1.0\n",
      "Lift: 4.090909090909091\n",
      "=====================================\n",
      "Rule: Bread -> Milk\n",
      "Support: 0.006349206349206349\n",
      "Confidence: 1.0\n",
      "Lift: 5.0\n",
      "=====================================\n"
     ]
    }
   ],
   "source": [
    "for item in association_results:\n",
    "\n",
    "    # first index of the inner list\n",
    "    # Contains base item and add item\n",
    "    pair = item[0] \n",
    "    items = [x for x in pair]\n",
    "    print(\"Rule: \" + items[0] + \" -> \" + items[1])\n",
    "\n",
    "    #second index of the inner list\n",
    "    print(\"Support: \" + str(item[1]))\n",
    "\n",
    "    #third index of the list located at 0th\n",
    "    #of the third index of the inner list\n",
    "\n",
    "    print(\"Confidence: \" + str(item[2][0][2]))\n",
    "    print(\"Lift: \" + str(item[2][0][3]))\n",
    "    print(\"=====================================\")"
   ]
  },
  {
   "cell_type": "markdown",
   "metadata": {},
   "source": [
    "Advantages\n",
    "\n",
    "Easy to understand algorithm\n",
    "\n",
    "Join and Prune steps are easy to implement on large itemsets in large databases\n",
    "\n",
    "Disadvantages\n",
    "\n",
    "It requires high computation if the itemsets are very large and the minimum support is kept very low.\n",
    "\n",
    "The entire database needs to be scanned.\n",
    "\n",
    "Methods To Improve Apriori Efficiency\n",
    "\n",
    "Many methods are available for improving the efficiency of the algorithm.\n",
    "\n",
    "Hash-Based Technique: This method uses a hash-based structure called a hash table for generating the k-itemsets and its corresponding count. It uses a hash function for generating the table.\n",
    "\n",
    "Transaction Reduction: This method reduces the number of transactions scanning in iterations. The transactions which do not contain frequent items are marked or removed.\n",
    "\n",
    "Partitioning: This method requires only two database scans to mine the frequent itemsets. It says that for any itemset to be potentially frequent in the database, it should be frequent in at least one of the partitions of the database.\n",
    "\n",
    "Sampling: This method picks a random sample S from Database D and then searches for frequent itemset in S. It may be possible to lose a global frequent itemset. This can be reduced by lowering the min_sup.\n",
    "Dynamic Itemset Counting: This technique can add new candidate itemsets at any marked start point of the database during the \n",
    "scanning of the database.\n",
    "\n",
    "Applications Of Apriori Algorithm\n",
    "\n",
    "Some fields where Apriori is used:\n",
    "\n",
    "In Education Field: Extracting association rules in data mining of admitted students through characteristics and specialties.\n",
    "\n",
    "In the Medical field: For example Analysis of the patient's database.\n",
    "\n",
    "In Forestry: Analysis of probability and intensity of forest fire with the forest fire data.\n",
    "\n",
    "Apriori is used by many companies like Amazon in the Recommender System and by Google for the auto-complete feature.\n",
    "\n",
    "Conclusion\n",
    "\n",
    "Apriori algorithm is an efficient algorithm that scans the database only once.\n",
    "\n",
    "It reduces the size of the itemsets in the database considerably providing a good performance. Thus, data mining helps consumers and industries better in the decision-making process."
   ]
  },
  {
   "cell_type": "code",
   "execution_count": null,
   "metadata": {},
   "outputs": [],
   "source": []
  }
 ],
 "metadata": {
  "kernelspec": {
   "display_name": "Python 3",
   "language": "python",
   "name": "python3"
  },
  "language_info": {
   "codemirror_mode": {
    "name": "ipython",
    "version": 3
   },
   "file_extension": ".py",
   "mimetype": "text/x-python",
   "name": "python",
   "nbconvert_exporter": "python",
   "pygments_lexer": "ipython3",
   "version": "3.7.6"
  }
 },
 "nbformat": 4,
 "nbformat_minor": 4
}
